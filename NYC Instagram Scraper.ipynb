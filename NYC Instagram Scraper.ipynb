{
 "cells": [
  {
   "cell_type": "code",
   "execution_count": null,
   "id": "53235947",
   "metadata": {},
   "outputs": [],
   "source": [
    "#!/usr/bin/python3.6\n",
    "# use your Instagram username and password on line 13. Run the code and you will get an error and an instruction to set your browser to a page asking if you just logged in.\n",
    "# Say Yes. and run the script again. It should run this time. If you get a recursion error, refresh this page again by putting your cursor on the URL bar and hitting Enter. Now run the script. Should work.\n",
    "import instaloader\n",
    "import  time\n",
    "import  pandas as pd\n",
    "import sys\n",
    "sys.setrecursionlimit(10000)\n",
    "from datetime import datetime\n",
    "from itertools import dropwhile, takewhile\n",
    "\n",
    "L = instaloader.Instaloader()\n",
    "L.login(\"****\", \"****\")\n",
    "df=pd.DataFrame()\n",
    "\n",
    "#CODE TO GET DATA FROM AN ACCOUNT\n",
    "\n",
    "i=0\n",
    "for post in instaloader.Profile.from_username(L.context, 'nycgov').get_posts():\n",
    "    df = df.append({'Caption': post.caption, 'Likes': post.likes, 'URL': post.url  }, ignore_index=True)\n",
    "    df.to_excel(\"nyc.xlsx\",index=False)\n",
    "    i = i+1\n",
    "    if i>200:\n",
    "        break\n",
    "print(\"Written to nyc.xlsx file\")"
   ]
  },
  {
   "cell_type": "code",
   "execution_count": null,
   "id": "1dbabed3",
   "metadata": {},
   "outputs": [],
   "source": [
    "#!pip install --upgrade google-api-python-client\n",
    "#!pip install google-cloud-vision\n",
    "#!pip install xlrd==1.2.0"
   ]
  },
  {
   "cell_type": "code",
   "execution_count": 37,
   "id": "a48c9cd1",
   "metadata": {},
   "outputs": [],
   "source": [
    "import xlrd\n",
    "from google.cloud import vision\n",
    "import os\n",
    "import pandas as pd"
   ]
  },
  {
   "cell_type": "code",
   "execution_count": null,
   "id": "a25ddc11",
   "metadata": {},
   "outputs": [],
   "source": [
    "Application_Credentials = '****'\n",
    "os.environ['GOOGLE_APPLICATION_CREDENTIALS'] = Application_Credentials\n",
    "client = vision.ImageAnnotatorClient()\n",
    "image = vision.Image()\n",
    "#urls.xlsx has the image urls \n",
    "#loc = (\"nyc.xlsx\")\n",
    "#wb = xlrd.open_workbook_xls(loc)\n",
    "wb = pd.read_excel('nyc.xlsx', engine='openpyxl')\n",
    "# sheet = wb.sheet_by_index(0)\n",
    "# sheet.cell_value(0, 0)\n",
    "df = pd.DataFrame()\n",
    "# loop through every url, retreive the image and send to google vision\n",
    "for i in range(len(wb)):\n",
    "    image_src_temp = wb.loc[i,'URL']\n",
    "    image.source.image_uri = image_src_temp\n",
    "    response = client.label_detection(image=image)\n",
    "    labels = response.label_annotations\n",
    "    l = []\n",
    "    for label in labels:\n",
    "        l.append(label.description)\n",
    "    s = ' '.join(l)\n",
    "    print(\"s\")\n",
    "    print(s)\n",
    "    df = df.append({'URL': image_src_temp, 'Labels': s}, ignore_index=True)\n",
    "df.to_excel(\"NYC_Labels.xlsx\",index=False)\n"
   ]
  }
 ],
 "metadata": {
  "kernelspec": {
   "display_name": "Python 3",
   "language": "python",
   "name": "python3"
  },
  "language_info": {
   "codemirror_mode": {
    "name": "ipython",
    "version": 3
   },
   "file_extension": ".py",
   "mimetype": "text/x-python",
   "name": "python",
   "nbconvert_exporter": "python",
   "pygments_lexer": "ipython3",
   "version": "3.8.8"
  }
 },
 "nbformat": 4,
 "nbformat_minor": 5
}
